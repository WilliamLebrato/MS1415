{
 "cells": [
  {
   "cell_type": "code",
   "execution_count": null,
   "id": "ee5ae0e3",
   "metadata": {},
   "outputs": [
    {
     "ename": "SyntaxError",
     "evalue": "invalid syntax (273551095.py, line 6)",
     "output_type": "error",
     "traceback": [
      "\u001b[0;36m  Cell \u001b[0;32mIn[2], line 6\u001b[0;36m\u001b[0m\n\u001b[0;31m    def plot_boxes(filename, boxes)\u001b[0m\n\u001b[0m                                   ^\u001b[0m\n\u001b[0;31mSyntaxError\u001b[0m\u001b[0;31m:\u001b[0m invalid syntax\n"
     ]
    }
   ],
   "source": [
    "import json\n",
    "import matplotlib.pyplot as plt\n",
    "import matplotlib.patches as patches\n",
    "import scipy.io\n",
    "\n",
    "def plot_boxes(filename, boxes):\n",
    "    image_data = mat['y']\n",
    "\n",
    "    # Load the bounding boxes from a JSON file\n",
    "    with open('bounding_boxes.json', 'r') as f:\n",
    "        bounding_boxes = json.load(f)\n",
    "\n",
    "    # Plot the image\n",
    "    fig, ax = plt.subplots(figsize=(10, 6))\n",
    "    ax.imshow(image_data, cmap='gray')\n",
    "\n",
    "    # Draw the bounding boxes\n",
    "    for name, box in bounding_boxes.items():\n",
    "        rect = patches.Rectangle((box['x'], box['y']), box['width'], box['height'],\n",
    "                                linewidth=2, edgecolor='r', facecolor='none')\n",
    "        ax.add_patch(rect)\n",
    "        ax.text(box['x'], box['y'] - 5, name, color='yellow', fontsize=8, weight='bold')\n",
    "\n",
    "    plt.title(\"SAR Image with Bounding Boxes\")\n",
    "    plt.axis('off')\n",
    "    plt.show()\n",
    "\n",
    "file_name = \"data/image_SF.mat\"\n",
    "boxes = = \"data/SF_boxes.json\""
   ]
  }
 ],
 "metadata": {
  "kernelspec": {
   "display_name": "venv",
   "language": "python",
   "name": "python3"
  },
  "language_info": {
   "codemirror_mode": {
    "name": "ipython",
    "version": 3
   },
   "file_extension": ".py",
   "mimetype": "text/x-python",
   "name": "python",
   "nbconvert_exporter": "python",
   "pygments_lexer": "ipython3",
   "version": "3.9.21"
  }
 },
 "nbformat": 4,
 "nbformat_minor": 5
}
